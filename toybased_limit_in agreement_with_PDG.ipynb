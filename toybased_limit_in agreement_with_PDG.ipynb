{
 "cells": [
  {
   "cell_type": "code",
   "execution_count": 4,
   "id": "5ccc0746",
   "metadata": {},
   "outputs": [],
   "source": [
    "import ipywidgets as widgets\n",
    "import pyhf\n",
    "import json\n",
    "import matplotlib.pyplot as plt\n",
    "import numpy as np\n",
    "from pyhf.contrib.viz import brazil\n",
    "import matplotlib\n",
    "pyhf.set_backend(pyhf.tensor.numpy_backend(),pyhf.optimize.minuit_optimizer())"
   ]
  },
  {
   "cell_type": "markdown",
   "id": "da2cf918",
   "metadata": {},
   "source": [
    "# modify \"upperlimit\" def. Adding a new parameter \"calctype_results\""
   ]
  },
  {
   "cell_type": "code",
   "execution_count": 5,
   "id": "d57fdc87",
   "metadata": {},
   "outputs": [],
   "source": [
    "\"\"\"Interval estimation\"\"\"\n",
    "__all__ = [\"upperlimit\"]\n",
    "\n",
    "\n",
    "def __dir__():\n",
    "    return __all__\n",
    "\n",
    "\n",
    "def _interp(x, xp, fp):\n",
    "    tb, _ = get_backend()\n",
    "    return tb.astensor(np.interp(x, xp.tolist(), fp.tolist()))\n",
    "\n",
    "\n",
    "def upperlimit(data, model, scan, level=0.05, return_results=False, calctype_results=\"asymptotics\"):\n",
    "    \n",
    "    tb, _ = get_backend()\n",
    "    results = [\n",
    "        hypotest(mu, data, model, test_stat=\"qtilde\", return_expected_set=True, calctype=calctype_results)\n",
    "        for mu in scan\n",
    "    ]\n",
    "    obs = tb.astensor([[r[0]] for r in results])\n",
    "    exp = tb.astensor([[r[1][idx] for idx in range(5)] for r in results])\n",
    "\n",
    "    result_arrary = tb.concatenate([obs, exp], axis=1).T\n",
    "\n",
    "    # observed limit and the (0, +-1, +-2)sigma expected limits\n",
    "    limits = [_interp(level, result_arrary[idx][::-1], scan[::-1]) for idx in range(6)]\n",
    "    obs_limit, exp_limits = limits[0], limits[1:]\n",
    "\n",
    "    if return_results:\n",
    "        return obs_limit, exp_limits, (scan, results)\n",
    "    return obs_limit, exp_limits"
   ]
  },
  {
   "cell_type": "markdown",
   "id": "6a882ead",
   "metadata": {},
   "source": [
    "## model :: data = 1, bg = 0"
   ]
  },
  {
   "cell_type": "code",
   "execution_count": 6,
   "id": "c7752100",
   "metadata": {},
   "outputs": [],
   "source": [
    "model = pyhf.Model(\n",
    "{\n",
    "  \"channels\": [\n",
    "    {\n",
    "      \"name\": \"singlechannel\",\n",
    "      \"samples\": [\n",
    "        {\n",
    "          \"name\": \"signal\",\n",
    "          \"data\": [\n",
    "            1.0\n",
    "          ],\n",
    "          \"modifiers\": [\n",
    "            {\n",
    "              \"name\": \"mu\",\n",
    "              \"type\": \"normfactor\",\n",
    "              \"data\": None\n",
    "            }\n",
    "          ]\n",
    "        },\n",
    "        {\n",
    "          \"name\": \"background\",\n",
    "          \"data\": [\n",
    "            0.0\n",
    "          ],\n",
    "          \"modifiers\": [\n",
    "              \n",
    "          ]\n",
    "        }\n",
    "      ]\n",
    "        \n",
    "    }\n",
    "  ]\n",
    "}\n",
    ")"
   ]
  },
  {
   "cell_type": "code",
   "execution_count": 7,
   "id": "cd63663f",
   "metadata": {},
   "outputs": [
    {
     "data": {
      "text/plain": [
       "[]"
      ]
     },
     "execution_count": 7,
     "metadata": {},
     "output_type": "execute_result"
    }
   ],
   "source": [
    "model.config.auxdata"
   ]
  },
  {
   "cell_type": "code",
   "execution_count": 8,
   "id": "12b6b331",
   "metadata": {},
   "outputs": [],
   "source": [
    "observations = [1.0] + model.config.auxdata"
   ]
  },
  {
   "cell_type": "code",
   "execution_count": 200,
   "id": "fb97544d",
   "metadata": {},
   "outputs": [
    {
     "data": {
      "text/plain": [
       "0"
      ]
     },
     "execution_count": 200,
     "metadata": {},
     "output_type": "execute_result"
    }
   ],
   "source": [
    "model.config.poi_index"
   ]
  },
  {
   "cell_type": "code",
   "execution_count": 10,
   "id": "8353ac65",
   "metadata": {},
   "outputs": [
    {
     "name": "stderr",
     "output_type": "stream",
     "text": [
      "/Users/souravdey/pyhf/lib/python3.7/site-packages/pyhf/optimize/opt_minuit.py:136: IMinuitWarning: Hesse called with all parameters fixed\n",
      "  minimizer.hesse()\n",
      "                                                                                \r"
     ]
    },
    {
     "name": "stdout",
     "output_type": "stream",
     "text": [
      "Upper limit (obs): μ = 4.7857\n",
      "Upper limit (exp): μ = 2.9333\n"
     ]
    }
   ],
   "source": [
    "poi_values = np.linspace(0.1, 5, 50)\n",
    "obs_limit, exp_limits, (scan, results) = pyhf.infer.intervals.upperlimit(\n",
    "    observations, model, poi_values, level=0.05,return_results=True,calctype_results=\"toybased\",\n",
    ")\n",
    "print(f\"Upper limit (obs): μ = {obs_limit:.4f}\")\n",
    "print(f\"Upper limit (exp): μ = {exp_limits[2]:.4f}\")"
   ]
  },
  {
   "cell_type": "code",
   "execution_count": 11,
   "id": "740108ca",
   "metadata": {},
   "outputs": [
    {
     "data": {
      "image/png": "[encoded data removed]",
      "text/plain": [
       "<Figure size 756x504 with 1 Axes>"
      ]
     },
     "metadata": {
      "needs_background": "light"
     },
     "output_type": "display_data"
    }
   ],
   "source": [
    "fig, ax = plt.subplots()\n",
    "fig.set_size_inches(10.5, 7)\n",
    "ax.set_title(\"Hypothesis Tests\")\n",
    "\n",
    "artists = brazil.plot_results(poi_values, results, ax=ax)"
   ]
  },
  {
   "cell_type": "markdown",
   "id": "4b1d6015",
   "metadata": {},
   "source": [
    "## both the bands collapse at the dotted line as there is no bg"
   ]
  },
  {
   "cell_type": "code",
   "execution_count": null,
   "id": "25a5bde4",
   "metadata": {},
   "outputs": [],
   "source": []
  }
 ],
 "metadata": {
  "kernelspec": {
   "display_name": "Python 3 (ipykernel)",
   "language": "python",
   "name": "python3"
  },
  "language_info": {
   "codemirror_mode": {
    "name": "ipython",
    "version": 3
   },
   "file_extension": ".py",
   "mimetype": "text/x-python",
   "name": "python",
   "nbconvert_exporter": "python",
   "pygments_lexer": "ipython3",
   "version": "3.7.3"
  }
 },
 "nbformat": 4,
 "nbformat_minor": 5
}
